{
 "cells": [
  {
   "cell_type": "code",
   "execution_count": 17,
   "metadata": {},
   "outputs": [],
   "source": [
    "import os\n",
    "import json"
   ]
  },
  {
   "cell_type": "code",
   "execution_count": 5,
   "metadata": {},
   "outputs": [],
   "source": [
    "data = []\n",
    "with open(\"teste-test.json\") as file:\n",
    "    for line in file:\n",
    "            jsonObj = json.loads(line)\n",
    "            document = jsonObj[\"document\"]\n",
    "            summary = jsonObj[\"summary\"]\n",
    "            data.append((document, summary))"
   ]
  },
  {
   "cell_type": "code",
   "execution_count": 22,
   "metadata": {},
   "outputs": [
    {
     "ename": "KeyboardInterrupt",
     "evalue": "",
     "output_type": "error",
     "traceback": [
      "\u001b[1;31m---------------------------------------------------------------------------\u001b[0m",
      "\u001b[1;31mKeyboardInterrupt\u001b[0m                         Traceback (most recent call last)",
      "Cell \u001b[1;32mIn[22], line 5\u001b[0m\n\u001b[0;32m      1\u001b[0m \u001b[39mfrom\u001b[39;00m \u001b[39mtokenizers\u001b[39;00m \u001b[39mimport\u001b[39;00m BertWordPieceTokenizer\n\u001b[0;32m      3\u001b[0m wordPiece \u001b[39m=\u001b[39m BertWordPieceTokenizer()\n\u001b[1;32m----> 5\u001b[0m wordPiece\u001b[39m.\u001b[39;49mtrain_from_iterator(iterator\u001b[39m=\u001b[39;49mdata)\n",
      "File \u001b[1;32mc:\\Users\\francisco.ferreira\\AppData\\Local\\Programs\\Python\\Python310\\lib\\site-packages\\tokenizers\\implementations\\bert_wordpiece.py:148\u001b[0m, in \u001b[0;36mBertWordPieceTokenizer.train_from_iterator\u001b[1;34m(self, iterator, vocab_size, min_frequency, limit_alphabet, initial_alphabet, special_tokens, show_progress, wordpieces_prefix, length)\u001b[0m\n\u001b[0;32m    137\u001b[0m \u001b[39m\u001b[39m\u001b[39m\"\"\"Train the model using the given iterator\"\"\"\u001b[39;00m\n\u001b[0;32m    139\u001b[0m trainer \u001b[39m=\u001b[39m trainers\u001b[39m.\u001b[39mWordPieceTrainer(\n\u001b[0;32m    140\u001b[0m     vocab_size\u001b[39m=\u001b[39mvocab_size,\n\u001b[0;32m    141\u001b[0m     min_frequency\u001b[39m=\u001b[39mmin_frequency,\n\u001b[1;32m   (...)\u001b[0m\n\u001b[0;32m    146\u001b[0m     continuing_subword_prefix\u001b[39m=\u001b[39mwordpieces_prefix,\n\u001b[0;32m    147\u001b[0m )\n\u001b[1;32m--> 148\u001b[0m \u001b[39mself\u001b[39;49m\u001b[39m.\u001b[39;49m_tokenizer\u001b[39m.\u001b[39;49mtrain_from_iterator(\n\u001b[0;32m    149\u001b[0m     iterator,\n\u001b[0;32m    150\u001b[0m     trainer\u001b[39m=\u001b[39;49mtrainer,\n\u001b[0;32m    151\u001b[0m     length\u001b[39m=\u001b[39;49mlength,\n\u001b[0;32m    152\u001b[0m )\n",
      "\u001b[1;31mKeyboardInterrupt\u001b[0m: "
     ]
    }
   ],
   "source": [
    "from tokenizers import BertWordPieceTokenizer\n",
    "\n",
    "wordPiece = BertWordPieceTokenizer()\n",
    "\n",
    "wordPiece.train_from_iterator(iterator=data)"
   ]
  },
  {
   "cell_type": "code",
   "execution_count": 18,
   "metadata": {},
   "outputs": [
    {
     "data": {
      "text/plain": [
       "['./tokenizer\\\\vocab.txt']"
      ]
     },
     "execution_count": 18,
     "metadata": {},
     "output_type": "execute_result"
    }
   ],
   "source": [
    "os.mkdir('./tokenizer')\n",
    "\n",
    "wordPiece.save_model('./tokenizer')"
   ]
  },
  {
   "cell_type": "code",
   "execution_count": 19,
   "metadata": {},
   "outputs": [],
   "source": [
    "from transformers import BertTokenizer\n",
    "\n",
    "tokenizer = BertTokenizer.from_pretrained('./tokenizer')"
   ]
  }
 ],
 "metadata": {
  "kernelspec": {
   "display_name": "Python 3",
   "language": "python",
   "name": "python3"
  },
  "language_info": {
   "codemirror_mode": {
    "name": "ipython",
    "version": 3
   },
   "file_extension": ".py",
   "mimetype": "text/x-python",
   "name": "python",
   "nbconvert_exporter": "python",
   "pygments_lexer": "ipython3",
   "version": "3.10.8"
  },
  "orig_nbformat": 4
 },
 "nbformat": 4,
 "nbformat_minor": 2
}
